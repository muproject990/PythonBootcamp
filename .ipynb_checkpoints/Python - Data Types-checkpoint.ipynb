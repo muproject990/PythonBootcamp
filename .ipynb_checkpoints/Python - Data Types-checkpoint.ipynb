{
 "cells": [
  {
   "cell_type": "markdown",
   "metadata": {},
   "source": [
    "## Python Built-in Data Types:"
   ]
  },
  {
   "cell_type": "markdown",
   "metadata": {},
   "source": [
    "Python has the following data types built-in by default, in these categories:\n",
    "\n",
    "* Text Type:\tstr\n",
    "* Numeric Types:\tint, float, complex\n",
    "* Sequence Types:\tlist, tuple, range\n",
    "* Mapping Type:\tdict\n",
    "* Set Types:\tset, frozenset\n",
    "* Boolean Type:\tbool\n",
    "* Binary Types:\tbytes, bytearray, memoryview\n",
    "* None Type:\tNoneType"
   ]
  },
  {
   "cell_type": "code",
   "execution_count": null,
   "metadata": {},
   "outputs": [],
   "source": [
    "# Q1.  How to find the data type of an object? or \n",
    "# Q2. What is the data type of object firstName in \n",
    "\n",
    "firstName = \"Devashish\"\n",
    "\n",
    "# Answer: We can find the data type of object firstName by using the type()\n",
    "\n",
    "type(firstName)"
   ]
  },
  {
   "cell_type": "code",
   "execution_count": null,
   "metadata": {},
   "outputs": [],
   "source": [
    "num1 = 10\n",
    "# print(num1)\n",
    "# num1\n",
    "type(num1)"
   ]
  },
  {
   "cell_type": "markdown",
   "metadata": {},
   "source": [
    "Quiz 1:\n",
    "In Python, the data type is set when you assign a value to a variable: T/F"
   ]
  },
  {
   "cell_type": "markdown",
   "metadata": {},
   "source": [
    "### Print the data type of the following variables: "
   ]
  },
  {
   "cell_type": "code",
   "execution_count": null,
   "metadata": {},
   "outputs": [],
   "source": [
    "num1 = 30"
   ]
  },
  {
   "cell_type": "code",
   "execution_count": null,
   "metadata": {},
   "outputs": [],
   "source": [
    "price = 34.5"
   ]
  },
  {
   "cell_type": "code",
   "execution_count": null,
   "metadata": {},
   "outputs": [],
   "source": [
    "name = \"CodroidHub\""
   ]
  },
  {
   "cell_type": "code",
   "execution_count": null,
   "metadata": {},
   "outputs": [],
   "source": [
    "value = 20 + 6j"
   ]
  },
  {
   "cell_type": "code",
   "execution_count": null,
   "metadata": {},
   "outputs": [],
   "source": [
    "subjects = [\"Maths\", \"Chemistry\", \"Physics\"]"
   ]
  },
  {
   "cell_type": "code",
   "execution_count": null,
   "metadata": {},
   "outputs": [],
   "source": [
    "subjects = (\"Maths\", \"Chemistry\", \"Physics\")"
   ]
  },
  {
   "cell_type": "code",
   "execution_count": null,
   "metadata": {},
   "outputs": [],
   "source": [
    "randomNumber = range(20)"
   ]
  },
  {
   "cell_type": "code",
   "execution_count": 8,
   "metadata": {},
   "outputs": [
    {
     "data": {
      "text/plain": [
       "dict"
      ]
     },
     "execution_count": 8,
     "metadata": {},
     "output_type": "execute_result"
    }
   ],
   "source": [
    "studentDetails = {\"name\": \"Devashish\", \"age\": 29, \"address\":\"India\"}\n",
    "type(studentDetails)"
   ]
  },
  {
   "cell_type": "code",
   "execution_count": null,
   "metadata": {},
   "outputs": [],
   "source": [
    "subjects = {\"Maths\", \"Chemistry\", \"Physics\"}"
   ]
  },
  {
   "cell_type": "code",
   "execution_count": null,
   "metadata": {},
   "outputs": [],
   "source": [
    "subjects = frozenset({\"Maths\", \"Chemistry\", \"Physics\"})"
   ]
  },
  {
   "cell_type": "code",
   "execution_count": null,
   "metadata": {},
   "outputs": [],
   "source": [
    "Answer = True"
   ]
  },
  {
   "cell_type": "code",
   "execution_count": null,
   "metadata": {},
   "outputs": [],
   "source": [
    "name = b\"CodroidHub\""
   ]
  },
  {
   "cell_type": "code",
   "execution_count": null,
   "metadata": {},
   "outputs": [],
   "source": [
    "Answer = None"
   ]
  },
  {
   "cell_type": "code",
   "execution_count": null,
   "metadata": {},
   "outputs": [],
   "source": [
    "# Q3. Is it possible to set a specific data type for a variable? True/False\n",
    "\n",
    "\n",
    "# Q4. Create a variable and explicitly mention it's data type to be string "
   ]
  },
  {
   "cell_type": "markdown",
   "metadata": {},
   "source": [
    "Quiz 2: We use constructor function to explicitly specify the data type of a variable? True/False\n",
    "\n",
    "Quiz3: In name = str(\"CodroidHub\"), str() is a constructor function? T/F"
   ]
  },
  {
   "cell_type": "markdown",
   "metadata": {},
   "source": [
    "## Python Numbers:\n",
    "<div class=\"alert alert-block alert-info\">\n",
    "<b>Python Built-in Data Types:</b> Python Numbers\n",
    "</div>"
   ]
  },
  {
   "cell_type": "markdown",
   "metadata": {},
   "source": [
    "There are three numeric types in Python:\n",
    "* integer - int\n",
    "* float\n",
    "* complex"
   ]
  },
  {
   "cell_type": "code",
   "execution_count": null,
   "metadata": {},
   "outputs": [],
   "source": [
    "num1 = 20\n",
    "print(num1)\n",
    "print(type(num1))"
   ]
  },
  {
   "cell_type": "code",
   "execution_count": null,
   "metadata": {},
   "outputs": [],
   "source": [
    "marks = 80e10\n",
    "print(marks)\n",
    "print(type(marks))"
   ]
  },
  {
   "cell_type": "code",
   "execution_count": null,
   "metadata": {},
   "outputs": [],
   "source": [
    "complexValue = 10 + 9j\n",
    "print(complexValue)\n",
    "print(type(complexValue))"
   ]
  },
  {
   "cell_type": "markdown",
   "metadata": {},
   "source": [
    "### Integer: \n",
    "* Whole Number: the numbers without fractions and it is a collection of  positive integers and zero.\n",
    "* Positive or Negative\n",
    "* Without decimals\n",
    "* Unlimited length"
   ]
  },
  {
   "cell_type": "markdown",
   "metadata": {},
   "source": [
    "### Float: \n",
    "* Number\n",
    "* Positive or Negative\n",
    "* Contains one or more decimals\n",
    "* Scientific numbers with an \"e\" to indicate the power of 10"
   ]
  },
  {
   "cell_type": "markdown",
   "metadata": {},
   "source": [
    "### Complex: \n",
    "* Numbers are written with a \"j\" as the imaginary part"
   ]
  },
  {
   "cell_type": "markdown",
   "metadata": {},
   "source": [
    "Quiz 4. Is it possible to convert one data type to another data type? T/F\n",
    "\n",
    "Quiz 5. When we convert one type to another, it is called as ---------?"
   ]
  },
  {
   "cell_type": "markdown",
   "metadata": {},
   "source": [
    "## Type Conversion"
   ]
  },
  {
   "cell_type": "code",
   "execution_count": null,
   "metadata": {},
   "outputs": [],
   "source": [
    "num = 6    # int\n",
    "marks = 80.5  # float\n",
    "complexValue = 9+5j   # complex"
   ]
  },
  {
   "cell_type": "code",
   "execution_count": null,
   "metadata": {},
   "outputs": [],
   "source": [
    "#convert from int to float:\n",
    "floatNum = float(num) # float()\n",
    "\n",
    "#convert from float to int:\n",
    "intMarks = int(marks)\n",
    "\n",
    "#convert from int to complex:\n",
    "complexNum = complex(num)\n",
    "\n",
    "print(floatNum)\n",
    "print(intMarks)\n",
    "print(complexNum)"
   ]
  },
  {
   "cell_type": "code",
   "execution_count": null,
   "metadata": {},
   "outputs": [],
   "source": [
    "print(type(floatNum))\n",
    "print(type(intMarks))\n",
    "print(type(complexNum))"
   ]
  },
  {
   "cell_type": "code",
   "execution_count": null,
   "metadata": {},
   "outputs": [],
   "source": [
    "# Casting in python is therefore done using constructor functions:\n",
    "* int() - constructs an integer number from an integer literal, a float literal (by removing all decimals), or a string literal (providing the string represents a whole number)\n",
    "* float() - constructs a float number from an integer literal, a float literal or a string literal (providing the string represents a float or an integer)\n",
    "* str() - constructs a string from a wide variety of data types, including strings, integer literals and float literals\n"
   ]
  },
  {
   "cell_type": "markdown",
   "metadata": {},
   "source": [
    "## Random Numbers:\n",
    "* No random()\n",
    "* random module to generate random numbers\n",
    "\n",
    "* What is a module in python?\n",
    "* Modules are simply files with the “. py” extension containing Python code that can be imported inside another Python Program. "
   ]
  },
  {
   "cell_type": "code",
   "execution_count": null,
   "metadata": {},
   "outputs": [],
   "source": [
    "import random\n",
    "\n",
    "print(random.randrange(1, 100))"
   ]
  },
  {
   "cell_type": "markdown",
   "metadata": {},
   "source": [
    "### Python Module"
   ]
  },
  {
   "cell_type": "markdown",
   "metadata": {},
   "source": [
    "* If you quit from the Python interpreter and enter it again, the definitions you have made (functions and variables) are lost. \n",
    "* Therefore, if you want to write a somewhat longer program, you are better off using a text editor to prepare the input for the interpreter and running it with that file as input instead. \n",
    "* This is known as creating a script. \n",
    "* As your program gets longer, you may want to split it into several files for easier maintenance. \n",
    "* You may also want to use a handy function that you’ve written in several programs without copying its definition into each program.\n",
    "\n",
    "* To support this, \n",
    "* Python has a way to put definitions in a file and use them in a script or in an interactive instance of the interpreter. \n",
    "* Such a file is called a module; \n",
    "* Definitions from a module can be imported into other modules or into the main module (the collection of variables that you have access to in a script executed at the top level and in calculator mode).\n",
    "\n",
    "* A module is a file containing Python definitions and statements. \n",
    "* The file name is the module name with the suffix .py appended. \n",
    "* Within a module, the module’s name (as a string) is available as the value of the global variable __name__. \n",
    "* For instance, use your favorite text editor to create a file called fibo.py in the current directory with the following contents:"
   ]
  },
  {
   "cell_type": "code",
   "execution_count": null,
   "metadata": {},
   "outputs": [],
   "source": [
    "# Fibonacci numbers module\n",
    "\n",
    "def fib(n):    # write Fibonacci series up to n\n",
    "    a, b = 0, 1\n",
    "    while a < n:\n",
    "        print(a, end=' ')\n",
    "        a, b = b, a+b\n",
    "    print()\n",
    "\n",
    "def fib2(n):   # return Fibonacci series up to n\n",
    "    result = []\n",
    "    a, b = 0, 1\n",
    "    while a < n:\n",
    "        result.append(a)\n",
    "        a, b = b, a+b\n",
    "    return result"
   ]
  },
  {
   "cell_type": "code",
   "execution_count": null,
   "metadata": {},
   "outputs": [],
   "source": [
    "# Now enter the Python interpreter and import this module with the following command:\n",
    "\n",
    "import fiboc\n",
    "fib(10)"
   ]
  },
  {
   "cell_type": "markdown",
   "metadata": {},
   "source": [
    "### Task\n",
    "1 - Find out if a number is Prime Number or Not.\n",
    "2 - Find out the prime numbers in a given range\n",
    "3,4 - Odd Numbers\n",
    "5,6 - Even numbers\n",
    "7 - Factorial"
   ]
  },
  {
   "cell_type": "markdown",
   "metadata": {},
   "source": [
    "## Python Strings\n",
    "<div class=\"alert alert-block alert-info\">\n",
    "<b>Python Built-in Data Types:</b> Python Strings\n",
    "</div>"
   ]
  },
  {
   "cell_type": "markdown",
   "metadata": {},
   "source": [
    "* What is a String?\n",
    "    * strings in Python are arrays of bytes representing unicode characters.\n",
    "* Surrounded by either single quotation marks, or double quotation marks\n",
    "* String types: Single-line or Multi-line string\n",
    "* 'CodroidHub' is same as \"CodroidHub\"\n",
    "* Display using print()\n",
    "* Assignment to a variable: company = \"CodroidHub\" or company = 'CodroidHub'\n",
    "* Assignment of multiline string to a variable using 3 single/double quotes:\n",
    "companyDetails = \"\"\" CodroidHub is an Ed-tech company\n",
    "registered in India\n",
    "It is a private limited company\n",
    "\"\"\""
   ]
  },
  {
   "cell_type": "code",
   "execution_count": null,
   "metadata": {},
   "outputs": [],
   "source": [
    "# Print the 5th character \n",
    "company = \"CodroidHub\"\n",
    "# company = 'CodroidHub'\n",
    "print(company[4])"
   ]
  },
  {
   "cell_type": "markdown",
   "metadata": {},
   "source": [
    "Quiz 5.\n",
    "* What is a String in Python?\n",
    "* How to access elements of a string?\n",
    "* How to assign/ print string?"
   ]
  },
  {
   "cell_type": "code",
   "execution_count": 1,
   "metadata": {},
   "outputs": [
    {
     "name": "stdout",
     "output_type": "stream",
     "text": [
      "CodroidHub is an edtech company\n",
      "It is located in India\n",
      ".\n"
     ]
    }
   ],
   "source": [
    "# Assign mulitline string \n",
    "company = \"\"\"CodroidHub is an edtech company\n",
    "It is located in India\n",
    ".\"\"\"\n",
    "print(company)"
   ]
  },
  {
   "cell_type": "markdown",
   "metadata": {},
   "source": [
    "## Looping Through a String"
   ]
  },
  {
   "cell_type": "code",
   "execution_count": 4,
   "metadata": {},
   "outputs": [
    {
     "name": "stdout",
     "output_type": "stream",
     "text": [
      "C\n",
      "o\n",
      "d\n",
      "r\n",
      "o\n",
      "i\n",
      "d\n",
      "H\n",
      "u\n",
      "b\n",
      " \n",
      "i\n",
      "s\n",
      " \n",
      "a\n",
      "n\n",
      " \n",
      "e\n",
      "d\n",
      "t\n",
      "e\n",
      "c\n",
      "h\n",
      " \n",
      "c\n",
      "o\n",
      "m\n",
      "p\n",
      "a\n",
      "n\n",
      "y\n",
      "\n",
      "\n",
      "I\n",
      "t\n",
      " \n",
      "i\n",
      "s\n",
      " \n",
      "l\n",
      "o\n",
      "c\n",
      "a\n",
      "t\n",
      "e\n",
      "d\n",
      " \n",
      "i\n",
      "n\n",
      " \n",
      "I\n",
      "n\n",
      "d\n",
      "i\n",
      "a\n",
      "\n",
      "\n",
      ".\n"
     ]
    },
    {
     "data": {
      "text/plain": [
       "'\\nPrint the characters in horizontal order\\n\\n'"
      ]
     },
     "execution_count": 4,
     "metadata": {},
     "output_type": "execute_result"
    }
   ],
   "source": [
    "# Since strings are arrays, we can loop through the characters in a string, with a for loop.\n",
    "#for var in \"CodroidHub\":\n",
    "for var in company:\n",
    "    print(var)\n",
    "    \n",
    "# Task \n",
    "\"\"\"\n",
    "Print the characters in horizontal order\n",
    "\n",
    "\"\"\""
   ]
  },
  {
   "cell_type": "markdown",
   "metadata": {},
   "source": [
    "## String Functions"
   ]
  },
  {
   "cell_type": "code",
   "execution_count": null,
   "metadata": {},
   "outputs": [],
   "source": [
    "# length of a string, use the len() function\n",
    "print(len(company))"
   ]
  },
  {
   "cell_type": "code",
   "execution_count": 5,
   "metadata": {},
   "outputs": [
    {
     "name": "stdout",
     "output_type": "stream",
     "text": [
      "False\n"
     ]
    }
   ],
   "source": [
    "# check if a certain phrase or character is present in a string, we can use the keyword in\n",
    "txt = \"CodroidHub is an Edtech company!\"\n",
    "print(\"edtech\" in txt)"
   ]
  },
  {
   "cell_type": "code",
   "execution_count": 6,
   "metadata": {},
   "outputs": [
    {
     "name": "stdout",
     "output_type": "stream",
     "text": [
      "Yes, 'edtech' is present.\n"
     ]
    }
   ],
   "source": [
    "# Use it in an if statement\n",
    "txt = \"CodroidHub is an edtech company!\"\n",
    "if \"edtech\" in txt:\n",
    "  print(\"Yes, 'edtech' is present.\")"
   ]
  },
  {
   "cell_type": "code",
   "execution_count": 7,
   "metadata": {},
   "outputs": [
    {
     "name": "stdout",
     "output_type": "stream",
     "text": [
      "True\n"
     ]
    }
   ],
   "source": [
    "# Check if \"expensive\" is NOT present in the following text\n",
    "txt = \"CodroidHub is an edtech company!\"\n",
    "print(\"expensive\" not in txt)"
   ]
  },
  {
   "cell_type": "code",
   "execution_count": null,
   "metadata": {},
   "outputs": [],
   "source": []
  }
 ],
 "metadata": {
  "kernelspec": {
   "display_name": "Python 3",
   "language": "python",
   "name": "python3"
  },
  "language_info": {
   "codemirror_mode": {
    "name": "ipython",
    "version": 3
   },
   "file_extension": ".py",
   "mimetype": "text/x-python",
   "name": "python",
   "nbconvert_exporter": "python",
   "pygments_lexer": "ipython3",
   "version": "3.7.3"
  }
 },
 "nbformat": 4,
 "nbformat_minor": 5
}
