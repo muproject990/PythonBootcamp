{
 "cells": [
  {
   "cell_type": "markdown",
   "metadata": {},
   "source": [
    "## EVEN OR  ODD In Given Range"
   ]
  },
  {
   "cell_type": "code",
   "execution_count": null,
   "metadata": {},
   "outputs": [],
   "source": [
    "low = int(input(\"Enter the Lower range\"))\n",
    "high = int(input(\"Enter the high range\"))\n",
    "\n",
    "print(\"Even Number are\")\n",
    "for even in range(low,high+1):\n",
    "    if even%2==0:\n",
    "        print(even)\n",
    "  \n",
    "            \n",
    "            \n",
    "\n",
    "print(\"Odd Number are\")\n",
    "for odd in range(low,high+1):\n",
    "    if odd % 2!=0:\n",
    "        print(odd)\n",
    "  \n",
    "      \n",
    "    "
   ]
  },
  {
   "cell_type": "markdown",
   "metadata": {},
   "source": [
    "## <span style=\"color:red\"> Observation </span>"
   ]
  },
  {
   "cell_type": "code",
   "execution_count": null,
   "metadata": {},
   "outputs": [],
   "source": [
    "\n",
    "val=int(input(\"Enter your number\")\n",
    ")\n",
    "\n",
    "def evenOrOdd(x):\n",
    "    \n",
    "    \n",
    "    if x%2==0:\n",
    "        print(x,\" is Even\")\n",
    "    else:\n",
    "        print(x,\"is odd\")\n",
    "  \n",
    "evenOrOdd(val)"
   ]
  },
  {
   "cell_type": "markdown",
   "metadata": {},
   "source": [
    "## Observation\n",
    "- In above code if the remainder of an statement condition x%2 is zero then we can consider it as even as it is divisible by 2"
   ]
  },
  {
   "cell_type": "markdown",
   "metadata": {},
   "source": [
    "## 1 Prime number or not"
   ]
  },
  {
   "cell_type": "code",
   "execution_count": null,
   "metadata": {},
   "outputs": [],
   "source": [
    "val=int(input(\"Enter your number\")\n",
    ")\n",
    "def primeNoOrNot(val):\n",
    "    if val == 1:\n",
    "         print(val, \"is not a prime number\")\n",
    "    elif val > 1:\n",
    "        # The elif keyword is pythons way of saying \"if the previous conditions were not true, then try this condition\".\n",
    "        for i in range(2,val):\n",
    "            if (val % i) == 0:\n",
    "                print(val,\"is not a prime number\")\n",
    "                break\n",
    "        \n",
    "            else:\n",
    "                print(val,\"is a prime number\")\n",
    "        \n",
    "\n",
    "    else:\n",
    "        print(val,\"is not a prime number\")\n",
    "    \n",
    "primeNoOrNot(val)"
   ]
  },
  {
   "cell_type": "markdown",
   "metadata": {},
   "source": [
    "## Observation\n",
    "- <span style=\"color:pink\"> if val == 1  The elif keyword is pythons way of saying \"if the previous conditions were not true, then try this condition so if given value is not 1 then IPR execute statements inside elif\n",
    "</span>\n",
    "- <span style=\"color:orange\"> if val == 1</span>:: It first checks if val is equal to 1. If so, it prints that 1 is not a prime number, as by definition, a prime number is greater than 1.\n",
    "- <span style=\"color:orange\"> val > 1</span>: If val is greater than 1, it iterates through a loop from 2 to val-1 (excluding 1 and val itself). \n",
    "- Inside the loop, it checks if val is divisible by any number in the loop (val % i == 0).\n",
    "- - If a divisor is found, it prints that val is not a prime number and breaks out of the loop.\n",
    "- - If the loop completes without finding any divisors, it prints that val is a prime number.\n",
    "- Negative Numbers: If val is less than or equal to 0, it prints that negative numbers are not considered prime.\n"
   ]
  },
  {
   "cell_type": "markdown",
   "metadata": {},
   "source": [
    "## 2 Prime number in range"
   ]
  },
  {
   "cell_type": "code",
   "execution_count": null,
   "metadata": {},
   "outputs": [],
   "source": [
    "#  program to display all the prime numbers within an range\n",
    "\n",
    "low = int(input(\"Enter the Lower range\"))\n",
    "high = int(input(\"Enter the high range\"))\n",
    "\n",
    "print(\"Prime numbers between\", low, \"and\", high, \"are:\")\n",
    "\n",
    "for num in range(low, high + 1):\n",
    "   if num > 1:\n",
    "       for i in range(2, num):\n",
    "           if (num % i) == 0:\n",
    "               break\n",
    "       else:\n",
    "           print(num)"
   ]
  }
 ],
 "metadata": {
  "kernelspec": {
   "display_name": "Python 3",
   "language": "python",
   "name": "python3"
  },
  "language_info": {
   "codemirror_mode": {
    "name": "ipython",
    "version": 3
   },
   "file_extension": ".py",
   "mimetype": "text/x-python",
   "name": "python",
   "nbconvert_exporter": "python",
   "pygments_lexer": "ipython3",
   "version": "3.7.3"
  }
 },
 "nbformat": 4,
 "nbformat_minor": 2
}
