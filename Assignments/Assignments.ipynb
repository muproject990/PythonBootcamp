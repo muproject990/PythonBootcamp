{
 "cells": [
  {
   "cell_type": "markdown",
   "metadata": {},
   "source": [
    "## 1 EVEN OR  ODD In Given Range"
   ]
  },
  {
   "cell_type": "code",
   "execution_count": null,
   "metadata": {},
   "outputs": [],
   "source": [
    "low = int(input(\"Enter the Lower range\"))\n",
    "high = int(input(\"Enter the high range\"))\n",
    "\n",
    "print(\"Even Number are\")\n",
    "for even in range(low,high+1):\n",
    "    if even%2==0:\n",
    "        print(even)\n",
    "  \n",
    "            \n",
    "            \n",
    "\n",
    "print(\"Odd Number are\")\n",
    "for odd in range(low,high+1):\n",
    "    if odd % 2!=0:\n",
    "        print(odd)\n",
    "\n",
    "    "
   ]
  },
  {
   "cell_type": "markdown",
   "metadata": {},
   "source": [
    "### <span style=\"color:red\"> Observation: </span>"
   ]
  },
  {
   "cell_type": "markdown",
   "metadata": {},
   "source": [
    "## 2.Check Even or Odd\n"
   ]
  },
  {
   "cell_type": "code",
   "execution_count": null,
   "metadata": {},
   "outputs": [],
   "source": [
    "\n",
    "val=int(input(\"Enter your number\")\n",
    ")\n",
    "\n",
    "def evenOrOdd(x):\n",
    "    \n",
    "    \n",
    "    if x%2==0:\n",
    "        print(x,\" is Even\")\n",
    "    else:\n",
    "        print(x,\"is odd\")\n",
    "  \n",
    "evenOrOdd(val)"
   ]
  },
  {
   "cell_type": "markdown",
   "metadata": {},
   "source": [
    "## Observation\n",
    "- In above code if the remainder of an statement condition x%2 is zero then we can consider it as even as it is divisible by 2"
   ]
  },
  {
   "cell_type": "markdown",
   "metadata": {},
   "source": []
  },
  {
   "cell_type": "markdown",
   "metadata": {},
   "source": [
    "## 3 Prime number or not"
   ]
  },
  {
   "cell_type": "code",
   "execution_count": 14,
   "metadata": {},
   "outputs": [
    {
     "name": "stdout",
     "output_type": "stream",
     "text": [
      "2\n",
      "19 is a prime number\n",
      "3\n",
      "19 is a prime number\n",
      "4\n",
      "19 is a prime number\n",
      "5\n",
      "19 is a prime number\n",
      "6\n",
      "19 is a prime number\n",
      "7\n",
      "19 is a prime number\n",
      "8\n",
      "19 is a prime number\n",
      "9\n",
      "19 is a prime number\n",
      "10\n",
      "19 is a prime number\n",
      "11\n",
      "19 is a prime number\n",
      "12\n",
      "19 is a prime number\n",
      "13\n",
      "19 is a prime number\n",
      "14\n",
      "19 is a prime number\n",
      "15\n",
      "19 is a prime number\n",
      "16\n",
      "19 is a prime number\n",
      "17\n",
      "19 is a prime number\n",
      "18\n",
      "19 is a prime number\n"
     ]
    }
   ],
   "source": [
    "val=int(input(\"Enter your number\"))\n",
    "def primeNoOrNot(val):\n",
    "    if val == 1:\n",
    "         print(val, \"is not a prime number\")\n",
    "    elif val > 1:\n",
    "        # The elif keyword is pythons way of saying \"if the previous conditions were not true, then try this condition\".\n",
    "        for i in range(2,val):\n",
    "            print(i)\n",
    "            if (val % i) == 0:\n",
    "                print(val,\"is not a prime number\")\n",
    "                break\n",
    "        \n",
    "            else:\n",
    "                print(val,\"is a prime number\")\n",
    "   \n",
    "\n",
    "    \n",
    "         \n",
    "\n",
    "    \n",
    "primeNoOrNot(val)"
   ]
  },
  {
   "cell_type": "markdown",
   "metadata": {},
   "source": [
    "## Observation\n",
    "- <span style=\"color:pink\"> if val == 1  The elif keyword is pythons way of saying \"if the previous conditions were not true, then try this condition so if given value is not 1 then IPR execute statements inside elif\n",
    "</span>\n",
    "- <span style=\"color:orange\"> if val == 1</span>:: It first checks if val is equal to 1. If so, it prints that 1 is not a prime number, as by definition, a prime number is greater than 1.\n",
    "- <span style=\"color:orange\"> val > 1</span>: If val is greater than 1, it iterates through a loop from 2 to val-1 (excluding 1 and val itself). \n",
    "- Inside the loop, it checks if val is divisible by any number in the loop (val % i == 0).\n",
    "- - If a divisor is found, it prints that val is not a prime number and breaks out of the loop.\n",
    "- - If the loop completes without finding any divisors, it prints that val is a prime number.\n",
    "- Negative Numbers: If val is less than or equal to 0, it prints that negative numbers are not considered prime.\n"
   ]
  },
  {
   "cell_type": "markdown",
   "metadata": {},
   "source": [
    "## 4 Prime number in range"
   ]
  },
  {
   "cell_type": "code",
   "execution_count": null,
   "metadata": {},
   "outputs": [],
   "source": [
    "#  program to display all the prime numbers within an range\n",
    "\n",
    "low = int(input(\"Enter the Lower range\"))\n",
    "high = int(input(\"Enter the high range\"))\n",
    "\n",
    "print(\"Prime numbers between\", low, \"and\", high, \"are:\")\n",
    "# print(high+1)\n",
    "for num in range(low, high + 1):\n",
    "   if num > 1:\n",
    "       for i in range(2, num):\n",
    "           if (num % i) == 0:\n",
    "               break\n",
    "       else:\n",
    "           print(num)"
   ]
  },
  {
   "cell_type": "markdown",
   "metadata": {},
   "source": [
    "## Import Examples"
   ]
  },
  {
   "cell_type": "code",
   "execution_count": 16,
   "metadata": {},
   "outputs": [
    {
     "name": "stdout",
     "output_type": "stream",
     "text": [
      "The factorial of 10 is 3628800\n"
     ]
    }
   ],
   "source": [
    "import fact\n",
    "num = int(input(\"Enter a number: \"))\n",
    "\n",
    "fact.factoriaFunction()\n"
   ]
  },
  {
   "cell_type": "markdown",
   "metadata": {},
   "source": [
    "# ListVsTuple"
   ]
  },
  {
   "cell_type": "markdown",
   "metadata": {},
   "source": [
    "<span style=\"color:red\">\n",
    "- Lists: Mutable - Elements can be modified, added, or removed after creation.\n",
    "- Tuples: Immutable - Elements cannot be changed after creation.</span>"
   ]
  },
  {
   "cell_type": "code",
   "execution_count": 22,
   "metadata": {},
   "outputs": [
    {
     "ename": "TypeError",
     "evalue": "'tuple' object does not support item assignment",
     "output_type": "error",
     "traceback": [
      "\u001b[0;31m---------------------------------------------------------------------------\u001b[0m",
      "\u001b[0;31mTypeError\u001b[0m                                 Traceback (most recent call last)",
      "Cell \u001b[0;32mIn[22], line 12\u001b[0m\n\u001b[1;32m      9\u001b[0m a_list[\u001b[38;5;241m1\u001b[39m]\u001b[38;5;241m=\u001b[39m\u001b[38;5;241m10\u001b[39m \u001b[38;5;66;03m#We can change a_list as it is mutable\u001b[39;00m\n\u001b[1;32m     10\u001b[0m a_list\n\u001b[0;32m---> 12\u001b[0m \u001b[43ma_tuple\u001b[49m\u001b[43m[\u001b[49m\u001b[38;5;241;43m1\u001b[39;49m\u001b[43m]\u001b[49m\u001b[38;5;241m=\u001b[39m\u001b[38;5;241m5\u001b[39m\n",
      "\u001b[0;31mTypeError\u001b[0m: 'tuple' object does not support item assignment"
     ]
    }
   ],
   "source": [
    "import sys\n",
    "\n",
    "a_list = list()\n",
    "a_tuple = tuple()\n",
    "\n",
    "a_list = [1,2,3,4,5]\n",
    "a_tuple = (1,2,3,4,5)\n",
    "\n",
    "a_list[1]=10 #We can change a_list as it is mutable\n",
    "a_list\n",
    "\n",
    "# a_tuple[1]=5 #'tuple' object does not support item assignment`` it is  Immutable"
   ]
  },
  {
   "cell_type": "markdown",
   "metadata": {},
   "source": [
    "## Arguments VS Parameter\n",
    "\n",
    "## Parameter:\n",
    "\n",
    "##### Definition: A parameter is a named variable defined within the function's declaration or signature. It acts as a placeholder for the data that will be passed to the function when it's called.\n",
    "Location: Exists within the function definition.\n",
    "Example: In the function  <span style=\"color:red\">def add(x, y):, x and y are parameters </span>.\n",
    "\n",
    "## Argument:\n",
    "\n",
    "##### Definition: An argument is the actual value or data passed to the function during its call. It is provided when the function is invoked and assigned to the corresponding parameter within the function.\n",
    "Location: Exists outside the function, at the call site.\n",
    "Example: When calling <span style=\"color:red\">add(5, 3), the arguments are 5 and 3, which are assigned to the parameters x and y, respectively</span>. "
   ]
  },
  {
   "cell_type": "code",
   "execution_count": 25,
   "metadata": {},
   "outputs": [
    {
     "name": "stdout",
     "output_type": "stream",
     "text": [
      "Name is Aavash and rollNo is 10\n"
     ]
    }
   ],
   "source": [
    "def ArgsVsPara(name,rollNo):\n",
    "    print(f\"Name is {name} and rollNo is {rollNo}\")\n",
    "    \n",
    "ArgsVsPara(\"Aavash\",10)"
   ]
  },
  {
   "cell_type": "code",
   "execution_count": null,
   "metadata": {},
   "outputs": [],
   "source": []
  }
 ],
 "metadata": {
  "kernelspec": {
   "display_name": "base",
   "language": "python",
   "name": "python3"
  },
  "language_info": {
   "codemirror_mode": {
    "name": "ipython",
    "version": 3
   },
   "file_extension": ".py",
   "mimetype": "text/x-python",
   "name": "python",
   "nbconvert_exporter": "python",
   "pygments_lexer": "ipython3",
   "version": "3.11.5"
  }
 },
 "nbformat": 4,
 "nbformat_minor": 2
}
