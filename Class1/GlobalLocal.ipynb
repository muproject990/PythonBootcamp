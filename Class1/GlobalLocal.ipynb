{
 "cells": [
  {
   "cell_type": "code",
   "execution_count": 16,
   "metadata": {},
   "outputs": [
    {
     "name": "stdout",
     "output_type": "stream",
     "text": [
      "Hello Messi boss 20\n"
     ]
    },
    {
     "data": {
      "text/plain": [
       "20"
      ]
     },
     "execution_count": 16,
     "metadata": {},
     "output_type": "execute_result"
    }
   ],
   "source": [
    "num=10\n",
    "\n",
    "def GlobalLocal():\n",
    "    global num \n",
    "    num=20\n",
    "    print(\"Hello Messi boss\",num)\n",
    "    \n",
    "GlobalLocal()\n",
    "\n",
    "num\n"
   ]
  },
  {
   "cell_type": "code",
   "execution_count": 23,
   "metadata": {},
   "outputs": [
    {
     "data": {
      "text/plain": [
       "False"
      ]
     },
     "execution_count": 23,
     "metadata": {},
     "output_type": "execute_result"
    }
   ],
   "source": [
    "1==2<3"
   ]
  },
  {
   "cell_type": "code",
   "execution_count": 27,
   "metadata": {},
   "outputs": [
    {
     "data": {
      "text/plain": [
       "5"
      ]
     },
     "execution_count": 27,
     "metadata": {},
     "output_type": "execute_result"
    }
   ],
   "source": [
    "import math \n",
    "\n",
    "math.floor(3.1)\n",
    "math.ceil(4.1)\n"
   ]
  },
  {
   "cell_type": "code",
   "execution_count": 92,
   "metadata": {},
   "outputs": [
    {
     "data": {
      "text/plain": [
       "['lemon', 'greenTea', 'orange', 'ginger']"
      ]
     },
     "execution_count": 92,
     "metadata": {},
     "output_type": "execute_result"
    }
   ],
   "source": [
    "import random\n",
    "random.random() \n",
    "l1=['lemon','orange','ginger','greenTea']\n",
    "random.choice(l1) # greenTea and changes always\n",
    "random.shuffle(l1) #['orange', 'greenTea', 'ginger', 'lemon'] and changes always\n",
    "l1"
   ]
  },
  {
   "cell_type": "code",
   "execution_count": 95,
   "metadata": {},
   "outputs": [
    {
     "data": {
      "text/plain": [
       "Fraction(2, 7)"
      ]
     },
     "execution_count": 95,
     "metadata": {},
     "output_type": "execute_result"
    }
   ],
   "source": [
    "from fractions import Fraction\n",
    "myFrac=Fraction(2,7)\n",
    "myFrac"
   ]
  },
  {
   "cell_type": "markdown",
   "metadata": {},
   "source": [
    "<!-- Decimal Data -->"
   ]
  },
  {
   "cell_type": "code",
   "execution_count": 98,
   "metadata": {},
   "outputs": [
    {
     "data": {
      "text/plain": [
       "Decimal('0.2')"
      ]
     },
     "execution_count": 98,
     "metadata": {},
     "output_type": "execute_result"
    }
   ],
   "source": [
    "from decimal import Decimal\n",
    "Decimal('0.1') + Decimal('0.1') + Decimal('0.1')+ Decimal('0.1')\n",
    "Decimal('0.1') + Decimal('0.1') + Decimal('0.1') - Decimal('0.1')"
   ]
  },
  {
   "cell_type": "code",
   "execution_count": 105,
   "metadata": {},
   "outputs": [
    {
     "data": {
      "text/plain": [
       "5"
      ]
     },
     "execution_count": 105,
     "metadata": {},
     "output_type": "execute_result"
    }
   ],
   "source": [
    "setOne={1,2,3,4,5}\n",
    "setOne | {1,3} #union {1, 2, 3, 4, 5}\n",
    "setOne & {1,3} #intersection  {1,3}\n",
    "True+4 # 5\n",
    " "
   ]
  },
  {
   "cell_type": "code",
   "execution_count": 1,
   "metadata": {},
   "outputs": [
    {
     "name": "stdout",
     "output_type": "stream",
     "text": [
      "[0, 1, 2, 3, 4, 5, 6, 7]\n",
      "Lemon ,Tea\n",
      "['Masala ', 'Tea']\n"
     ]
    }
   ],
   "source": [
    "tea=\"Masala ,Tea\"\n",
    "\n",
    "numList=[0,1,2,3,4,5,6,7,8,9]\n",
    "slice_tea=numList[0:8] #Slicing\n",
    "print(slice_tea)\n",
    "\n",
    "print(tea.replace(\"Masala\",\"Lemon\")) \n",
    "\n",
    "print(tea.split(\",\"))"
   ]
  },
  {
   "cell_type": "code",
   "execution_count": 2,
   "metadata": {},
   "outputs": [
    {
     "data": {
      "text/plain": [
       "'A aavash\\ndaaaaaaaaaaaaaankjandja\\naksbhjabjkabf\\nafkanfkjhajkf\\n\\npka'"
      ]
     },
     "execution_count": 2,
     "metadata": {},
     "output_type": "execute_result"
    }
   ],
   "source": [
    "company=\"\"\"A aavash\n",
    "daaaaaaaaaaaaaankjandja\n",
    "aksbhjabjkabf\n",
    "afkanfkjhajkf\n",
    "\n",
    "pka\"\"\"\n",
    "company"
   ]
  },
  {
   "cell_type": "code",
   "execution_count": 4,
   "metadata": {},
   "outputs": [
    {
     "name": "stdout",
     "output_type": "stream",
     "text": [
      "0\n",
      "h\n",
      "1\n",
      "e\n",
      "2\n",
      "l\n",
      "3\n",
      "l\n",
      "4\n",
      "o\n"
     ]
    }
   ],
   "source": [
    "i=0\n",
    "for shimant in \"hello\":\n",
    "    print(i)\n",
    "    print(shimant)\n",
    "    i+=1"
   ]
  },
  {
   "cell_type": "code",
   "execution_count": 19,
   "metadata": {},
   "outputs": [
    {
     "name": "stdout",
     "output_type": "stream",
     "text": [
      "false\n",
      "1   :  1\n",
      "2   :  2\n",
      "3   :  4\n",
      "4   :  6\n",
      "5   :  7\n",
      "6   :  96\n",
      "7   :  4\n",
      "8   :  32\n",
      "9   :  6\n",
      "10   :  8\n",
      "11   :  95\n"
     ]
    }
   ],
   "source": [
    "if 2>3:\n",
    "    print(\"True\")\n",
    "else:\n",
    "    print(\"false\")\n",
    "    \n",
    "    \n",
    "name=[1,2,4,6,7,96,4,32,6,8,95]\n",
    "# print(len(name))\n",
    "\n",
    "i=1\n",
    "for char in name:\n",
    "    print(i,\"  : \",char)\n",
    "    i+=1\n",
    "    "
   ]
  },
  {
   "cell_type": "code",
   "execution_count": null,
   "metadata": {},
   "outputs": [],
   "source": []
  }
 ],
 "metadata": {
  "kernelspec": {
   "display_name": "Python 3",
   "language": "python",
   "name": "python3"
  },
  "language_info": {
   "codemirror_mode": {
    "name": "ipython",
    "version": 3
   },
   "file_extension": ".py",
   "mimetype": "text/x-python",
   "name": "python",
   "nbconvert_exporter": "python",
   "pygments_lexer": "ipython3",
   "version": "3.11.5"
  }
 },
 "nbformat": 4,
 "nbformat_minor": 2
}
