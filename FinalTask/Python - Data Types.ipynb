{
 "cells": [
  {
   "cell_type": "markdown",
   "metadata": {},
   "source": [
    "## Python Built-in Data Types:"
   ]
  },
  {
   "cell_type": "markdown",
   "metadata": {},
   "source": [
    "Python has the following data types built-in by default, in these categories:\n",
    "\n",
    "* Text Type:\tstr\n",
    "* Numeric Types:\tint, float, complex\n",
    "* Sequence Types:\tlist, tuple, range\n",
    "* Mapping Type:\tdict\n",
    "* Set Types:\tset, frozenset\n",
    "* Boolean Type:\tbool\n",
    "* Binary Types:\tbytes, bytearray, memoryview\n",
    "* None Type:\tNoneType"
   ]
  },
  {
   "cell_type": "code",
   "execution_count": 3,
   "metadata": {},
   "outputs": [
    {
     "data": {
      "text/plain": [
       "int"
      ]
     },
     "execution_count": 3,
     "metadata": {},
     "output_type": "execute_result"
    }
   ],
   "source": [
    "# Q1.  How to find the data type of an object? or \n",
    "# Q2. What is the data type of object firstName in \n",
    "\n",
    "firstName = \"Devashish\"\n",
    "firstName = 2\n",
    "\n",
    "# Answer: We can find the data type of object firstName by using the type()\n",
    "\n",
    "type(firstName) #str\n",
    "  \n"
   ]
  },
  {
   "cell_type": "markdown",
   "id": "3b40fa6f",
   "metadata": {},
   "source": [
    "#### It gives output that data type of given variables firstName as String  \n",
    "- if i assign firstName to integer then  it gives integer"
   ]
  },
  {
   "cell_type": "code",
   "execution_count": null,
   "metadata": {},
   "outputs": [],
   "source": [
    "num1 = 10\n",
    "# print(num1)\n",
    "# num1\n",
    "type(num1)"
   ]
  },
  {
   "cell_type": "markdown",
   "metadata": {},
   "source": [
    "Quiz 1:\n",
    "In Python, the data type is set when you assign a value to a variable: T/F"
   ]
  },
  {
   "cell_type": "markdown",
   "metadata": {},
   "source": [
    "### Print the data type of the following variables: "
   ]
  },
  {
   "cell_type": "code",
   "execution_count": 5,
   "metadata": {},
   "outputs": [
    {
     "data": {
      "text/plain": [
       "30"
      ]
     },
     "execution_count": 5,
     "metadata": {},
     "output_type": "execute_result"
    }
   ],
   "source": [
    "num1 = 30\n",
    "num1"
   ]
  },
  {
   "cell_type": "markdown",
   "id": "92641365",
   "metadata": {},
   "source": [
    "##### num1 is pointing to value 30 in the memory"
   ]
  },
  {
   "cell_type": "code",
   "execution_count": 8,
   "metadata": {},
   "outputs": [
    {
     "data": {
      "text/plain": [
       "float"
      ]
     },
     "execution_count": 8,
     "metadata": {},
     "output_type": "execute_result"
    }
   ],
   "source": [
    "price = 34.5\n",
    "type(price)"
   ]
  },
  {
   "cell_type": "markdown",
   "id": "9d5f3dc7",
   "metadata": {},
   "source": [
    " #### Observation \n",
    " - Assigning float variable with 34.5\n"
   ]
  },
  {
   "cell_type": "code",
   "execution_count": 9,
   "metadata": {},
   "outputs": [],
   "source": [
    "name = \"CodroidHub\""
   ]
  },
  {
   "cell_type": "markdown",
   "id": "b4396917",
   "metadata": {},
   "source": [
    "#### Observation\n",
    "- Assigning string value to name"
   ]
  },
  {
   "cell_type": "code",
   "execution_count": 10,
   "metadata": {},
   "outputs": [
    {
     "data": {
      "text/plain": [
       "(20+6j)"
      ]
     },
     "execution_count": 10,
     "metadata": {},
     "output_type": "execute_result"
    }
   ],
   "source": [
    "value = 20 + 6j #Complex dataType\n",
    "\n",
    "value"
   ]
  },
  {
   "cell_type": "markdown",
   "id": "a3ae11a6",
   "metadata": {},
   "source": [
    "### List"
   ]
  },
  {
   "cell_type": "code",
   "execution_count": null,
   "metadata": {},
   "outputs": [],
   "source": [
    "subjects = [\"Maths\", \"Chemistry\", \"Physics\"] # assigning list to variable "
   ]
  },
  {
   "cell_type": "markdown",
   "id": "8a308933",
   "metadata": {},
   "source": [
    "### Touple"
   ]
  },
  {
   "cell_type": "code",
   "execution_count": 16,
   "metadata": {},
   "outputs": [
    {
     "data": {
      "text/plain": [
       "('Maths', 'Chemistry', 'Physics')"
      ]
     },
     "execution_count": 16,
     "metadata": {},
     "output_type": "execute_result"
    }
   ],
   "source": [
    "subjects = (\"Maths\", \"Chemistry\", \"Physics\")\n",
    "subjects"
   ]
  },
  {
   "cell_type": "markdown",
   "id": "11e3679a",
   "metadata": {},
   "source": [
    "#### Random Variable Generation which will be used in guessing  number and lottery draw"
   ]
  },
  {
   "cell_type": "code",
   "execution_count": 14,
   "metadata": {},
   "outputs": [
    {
     "name": "stdout",
     "output_type": "stream",
     "text": [
      "range(0, 20)\n"
     ]
    }
   ],
   "source": [
    "randomNumber = range(20)\n",
    "print(randomNumber)"
   ]
  },
  {
   "cell_type": "markdown",
   "id": "175d3f02",
   "metadata": {},
   "source": [
    "### Set"
   ]
  },
  {
   "cell_type": "code",
   "execution_count": 18,
   "metadata": {},
   "outputs": [
    {
     "data": {
      "text/plain": [
       "dict"
      ]
     },
     "execution_count": 18,
     "metadata": {},
     "output_type": "execute_result"
    }
   ],
   "source": [
    "studentDetails = {\"name\": \"Devashish\", \"age\": 29, \"address\":\"India\"}\n",
    "type(studentDetails)"
   ]
  },
  {
   "cell_type": "markdown",
   "id": "4390cdab",
   "metadata": {},
   "source": [
    "### Observation\n",
    "- Dictionary in python "
   ]
  },
  {
   "cell_type": "markdown",
   "id": "122be22b",
   "metadata": {},
   "source": []
  },
  {
   "cell_type": "code",
   "execution_count": null,
   "metadata": {},
   "outputs": [],
   "source": [
    "subjects = {\"Maths\", \"Chemistry\", \"Physics\"}\n",
    "subjects"
   ]
  },
  {
   "cell_type": "code",
   "execution_count": 22,
   "metadata": {},
   "outputs": [
    {
     "data": {
      "text/plain": [
       "frozenset({'Chemistry', 'Maths', 'Physics'})"
      ]
     },
     "execution_count": 22,
     "metadata": {},
     "output_type": "execute_result"
    }
   ],
   "source": [
    "subjects = frozenset({\"Maths\", \"Chemistry\", \"Physics\"})\n",
    "subjects"
   ]
  },
  {
   "cell_type": "code",
   "execution_count": 26,
   "id": "6e806ec4",
   "metadata": {},
   "outputs": [
    {
     "name": "stdout",
     "output_type": "stream",
     "text": [
      "The frozen set is: frozenset({'a', 'e', 'o', 'u', 'i'})\n",
      "The empty frozen set is: frozenset()\n"
     ]
    },
    {
     "ename": "AttributeError",
     "evalue": "'frozenset' object has no attribute 'add'",
     "output_type": "error",
     "traceback": [
      "\u001b[0;31m---------------------------------------------------------------------------\u001b[0m",
      "\u001b[0;31mAttributeError\u001b[0m                            Traceback (most recent call last)",
      "Cell \u001b[0;32mIn[26], line 7\u001b[0m\n\u001b[1;32m      5\u001b[0m \u001b[38;5;28mprint\u001b[39m(\u001b[38;5;124m'\u001b[39m\u001b[38;5;124mThe empty frozen set is:\u001b[39m\u001b[38;5;124m'\u001b[39m, \u001b[38;5;28mfrozenset\u001b[39m())\n\u001b[1;32m      6\u001b[0m \u001b[38;5;66;03m# frozensets are immutable\u001b[39;00m\n\u001b[0;32m----> 7\u001b[0m \u001b[43mfSet\u001b[49m\u001b[38;5;241;43m.\u001b[39;49m\u001b[43madd\u001b[49m(\u001b[38;5;124m'\u001b[39m\u001b[38;5;124mvalue\u001b[39m\u001b[38;5;124m'\u001b[39m)\n",
      "\u001b[0;31mAttributeError\u001b[0m: 'frozenset' object has no attribute 'add'"
     ]
    }
   ],
   "source": [
    "\n",
    "# tuple of vowels\n",
    "vowels = ('a','e','i','o','u')\n",
    "fSet = frozenset(vowels)\n",
    "print('The frozen set is:', fSet)\n",
    "print('The empty frozen set is:', frozenset())\n",
    "# frozensets are immutable\n",
    "fSet.add('value')"
   ]
  },
  {
   "cell_type": "code",
   "execution_count": 27,
   "metadata": {},
   "outputs": [],
   "source": [
    "Answer = True"
   ]
  },
  {
   "cell_type": "code",
   "execution_count": 35,
   "metadata": {},
   "outputs": [
    {
     "data": {
      "text/plain": [
       "b'CodroidHub'"
      ]
     },
     "execution_count": 35,
     "metadata": {},
     "output_type": "execute_result"
    }
   ],
   "source": [
    "name = b\"CodroidHub\"\n",
    "name"
   ]
  },
  {
   "cell_type": "code",
   "execution_count": 38,
   "metadata": {},
   "outputs": [
    {
     "data": {
      "text/plain": [
       "NoneType"
      ]
     },
     "execution_count": 38,
     "metadata": {},
     "output_type": "execute_result"
    }
   ],
   "source": [
    "Answer = None\n",
    "type(Answer)"
   ]
  },
  {
   "cell_type": "markdown",
   "id": "b7dd73b9",
   "metadata": {},
   "source": [
    "#### type(Answer) = NoneType\n",
    "Observation\n",
    "- Answer is defined as none \n",
    "- so its type is noneType"
   ]
  },
  {
   "cell_type": "code",
   "execution_count": null,
   "metadata": {},
   "outputs": [],
   "source": [
    "# Q3. Is it possible to set a specific data type for a variable? True/False\n",
    "\n",
    "\n",
    "# Q4. Create a variable and explicitly mention it's data type to be string "
   ]
  },
  {
   "cell_type": "markdown",
   "metadata": {},
   "source": [
    "Quiz 2: We use constructor function to explicitly specify the data type of a variable? True/False\n",
    "\n",
    "Quiz3: In name = str(\"CodroidHub\"), str() is a constructor function? T/F"
   ]
  },
  {
   "cell_type": "markdown",
   "metadata": {},
   "source": [
    "## Python Numbers:\n",
    "<div class=\"alert alert-block alert-info\">\n",
    "<b>Python Built-in Data Types:</b> Python Numbers\n",
    "</div>"
   ]
  },
  {
   "cell_type": "markdown",
   "metadata": {},
   "source": [
    "There are three numeric types in Python:\n",
    "* integer - int\n",
    "* float\n",
    "* complex"
   ]
  },
  {
   "cell_type": "code",
   "execution_count": 39,
   "metadata": {},
   "outputs": [
    {
     "name": "stdout",
     "output_type": "stream",
     "text": [
      "20\n",
      "<class 'int'>\n"
     ]
    }
   ],
   "source": [
    "num1 = 20\n",
    "print(num1)\n",
    "print(type(num1))"
   ]
  },
  {
   "cell_type": "code",
   "execution_count": 44,
   "metadata": {},
   "outputs": [
    {
     "name": "stdout",
     "output_type": "stream",
     "text": [
      "800.0\n",
      "<class 'float'>\n"
     ]
    }
   ],
   "source": [
    "marks = 8e2\n",
    "print(marks)\n",
    "print(type(marks))\n",
    "\n"
   ]
  },
  {
   "cell_type": "markdown",
   "id": "3b3ef88a",
   "metadata": {},
   "source": []
  },
  {
   "cell_type": "code",
   "execution_count": 32,
   "metadata": {},
   "outputs": [
    {
     "name": "stdout",
     "output_type": "stream",
     "text": [
      "(10+9j)\n",
      "<class 'complex'>\n"
     ]
    }
   ],
   "source": [
    "complexValue = 10 + 9j\n",
    "print(complexValue)\n",
    "print(type(complexValue))"
   ]
  },
  {
   "cell_type": "markdown",
   "metadata": {},
   "source": [
    "### Integer: \n",
    "* Whole Number: the numbers without fractions and it is a collection of  positive integers and zero.\n",
    "* Positive or Negative\n",
    "* Without decimals\n",
    "* Unlimited length"
   ]
  },
  {
   "cell_type": "markdown",
   "metadata": {},
   "source": [
    "### Float: \n",
    "* Number\n",
    "* Positive or Negative\n",
    "* Contains one or more decimals\n",
    "* Scientific numbers with an \"e\" to indicate the power of 10"
   ]
  },
  {
   "cell_type": "markdown",
   "metadata": {},
   "source": [
    "### Complex: \n",
    "* Numbers are written with a \"j\" as the imaginary part"
   ]
  },
  {
   "cell_type": "markdown",
   "metadata": {},
   "source": [
    "Quiz 4. Is it possible to convert one data type to another data type? T/F\n",
    "\n",
    "Quiz 5. When we convert one type to another, it is called as ---------?"
   ]
  },
  {
   "cell_type": "markdown",
   "metadata": {},
   "source": [
    "## Type Conversion"
   ]
  },
  {
   "cell_type": "code",
   "execution_count": 46,
   "metadata": {},
   "outputs": [
    {
     "data": {
      "text/plain": [
       "(9+5j)"
      ]
     },
     "execution_count": 46,
     "metadata": {},
     "output_type": "execute_result"
    }
   ],
   "source": [
    "num = 6    # int\n",
    "marks = 80.5  # float\n",
    "complexValue = 9+5j   # complex\n",
    "complexValue"
   ]
  },
  {
   "cell_type": "markdown",
   "id": "dfdc5ae0",
   "metadata": {},
   "source": [
    "### TypeCasting"
   ]
  },
  {
   "cell_type": "code",
   "execution_count": 48,
   "metadata": {},
   "outputs": [
    {
     "name": "stdout",
     "output_type": "stream",
     "text": [
      "6.0\n",
      "80\n",
      "(6+0j)\n"
     ]
    }
   ],
   "source": [
    "#convert from int to float:\n",
    "floatNum = float(num) # float()\n",
    "\n",
    "#convert from float to int:\n",
    "intMarks = int(marks)\n",
    "\n",
    "#convert from int to complex:\n",
    "complexNum = complex(num)\n",
    "\n",
    "print(floatNum)\n",
    "print(intMarks)\n",
    "print(complexNum)"
   ]
  },
  {
   "cell_type": "markdown",
   "id": "04c9041f",
   "metadata": {},
   "source": [
    "####  explicit type conversion in python\n",
    "- In above it explicitely convert into float in first case\n",
    "- In above it explicitely convert into int in 2nd case\n",
    "- In above it explicitely convert into complex in 3nd case\n",
    "\n",
    "syntax: num=int(number)"
   ]
  },
  {
   "cell_type": "markdown",
   "id": "84e283ee",
   "metadata": {},
   "source": [
    "## Checking Type"
   ]
  },
  {
   "cell_type": "code",
   "execution_count": 49,
   "metadata": {},
   "outputs": [
    {
     "name": "stdout",
     "output_type": "stream",
     "text": [
      "<class 'float'>\n",
      "<class 'int'>\n",
      "<class 'complex'>\n"
     ]
    }
   ],
   "source": [
    "print(type(floatNum))\n",
    "print(type(intMarks))\n",
    "print(type(complexNum))"
   ]
  },
  {
   "cell_type": "markdown",
   "id": "16874619",
   "metadata": {},
   "source": []
  },
  {
   "cell_type": "code",
   "execution_count": null,
   "metadata": {},
   "outputs": [],
   "source": [
    "# Casting in python is therefore done using constructor functions:\n",
    "* int() - constructs an integer number from an integer literal, a float literal (by removing all decimals), or a string literal (providing the string represents a whole number)\n",
    "* float() - constructs a float number from an integer literal, a float literal or a string literal (providing the string represents a float or an integer)\n",
    "* str() - constructs a string from a wide variety of data types, including strings, integer literals and float literals\n"
   ]
  },
  {
   "cell_type": "markdown",
   "metadata": {},
   "source": [
    "## Random Numbers:\n",
    "* No random()\n",
    "* random module to generate random numbers\n",
    "\n",
    "* What is a module in python?\n",
    "* Modules are simply files with the “. py” extension containing Python code that can be imported inside another Python Program. "
   ]
  },
  {
   "cell_type": "code",
   "execution_count": null,
   "metadata": {},
   "outputs": [],
   "source": [
    "import random\n",
    "\n",
    "print(random.randrange(1, 100))"
   ]
  },
  {
   "cell_type": "markdown",
   "metadata": {},
   "source": [
    "### Python Module"
   ]
  },
  {
   "cell_type": "markdown",
   "metadata": {},
   "source": [
    "* If you quit from the Python interpreter and enter it again, the definitions you have made (functions and variables) are lost. \n",
    "* Therefore, if you want to write a somewhat longer program, you are better off using a text editor to prepare the input for the interpreter and running it with that file as input instead. \n",
    "* This is known as creating a script. \n",
    "* As your program gets longer, you may want to split it into several files for easier maintenance. \n",
    "* You may also want to use a handy function that you’ve written in several programs without copying its definition into each program.\n",
    "\n",
    "* To support this, \n",
    "* Python has a way to put definitions in a file and use them in a script or in an interactive instance of the interpreter. \n",
    "* Such a file is called a module; \n",
    "* Definitions from a module can be imported into other modules or into the main module (the collection of variables that you have access to in a script executed at the top level and in calculator mode).\n",
    "\n",
    "* A module is a file containing Python definitions and statements. \n",
    "* The file name is the module name with the suffix .py appended. \n",
    "* Within a module, the module’s name (as a string) is available as the value of the global variable __name__. \n",
    "* For instance, use your favorite text editor to create a file called fibo.py in the current directory with the following contents:"
   ]
  },
  {
   "cell_type": "code",
   "execution_count": null,
   "metadata": {},
   "outputs": [],
   "source": [
    "# Fibonacci numbers module\n",
    "\n",
    "def fib(n):    # write Fibonacci series up to n\n",
    "    a, b = 0, 1\n",
    "    while a < n:\n",
    "        print(a, end=' ')\n",
    "        a, b = b, a+b\n",
    "    print()\n",
    "\n",
    "def fib2(n):   # return Fibonacci series up to n\n",
    "    result = []\n",
    "    a, b = 0, 1\n",
    "    while a < n:\n",
    "        result.append(a)\n",
    "        a, b = b, a+b\n",
    "    return result"
   ]
  },
  {
   "cell_type": "code",
   "execution_count": null,
   "metadata": {},
   "outputs": [],
   "source": [
    "# Now enter the Python interpreter and import this module with the following command:\n",
    "\n",
    "import fiboc\n",
    "fib(10)"
   ]
  },
  {
   "cell_type": "markdown",
   "metadata": {},
   "source": [
    "### Task\n",
    "1 - Find out if a number is Prime Number or Not.\n",
    "2 - Find out the prime numbers in a given range\n",
    "3,4 - Odd Numbers\n",
    "5,6 - Even numbers\n",
    "7 - Factorial"
   ]
  },
  {
   "cell_type": "markdown",
   "metadata": {},
   "source": [
    "## Python Strings\n",
    "<div class=\"alert alert-block alert-info\">\n",
    "<b>Python Built-in Data Types:</b> Python Strings\n",
    "</div>"
   ]
  },
  {
   "cell_type": "markdown",
   "metadata": {},
   "source": [
    "* What is a String?\n",
    "    * strings in Python are arrays of bytes representing unicode characters.\n",
    "* Surrounded by either single quotation marks, or double quotation marks\n",
    "* String types: Single-line or Multi-line string\n",
    "* 'CodroidHub' is same as \"CodroidHub\"\n",
    "* Display using print()\n",
    "* Assignment to a variable: company = \"CodroidHub\" or company = 'CodroidHub'\n",
    "* Assignment of multiline string to a variable using 3 single/double quotes:\n",
    "companyDetails = \"\"\" CodroidHub is an Ed-tech company\n",
    "registered in India\n",
    "It is a private limited company\n",
    "\"\"\""
   ]
  },
  {
   "cell_type": "code",
   "execution_count": null,
   "metadata": {},
   "outputs": [],
   "source": [
    "# Print the 5th character \n",
    "company = \"CodroidHub\"\n",
    "# company = 'CodroidHub'\n",
    "print(company[4])"
   ]
  },
  {
   "cell_type": "markdown",
   "metadata": {},
   "source": [
    "Quiz 5.\n",
    "* What is a String in Python?\n",
    "* How to access elements of a string?\n",
    "* How to assign/ print string?"
   ]
  },
  {
   "cell_type": "code",
   "execution_count": 1,
   "metadata": {},
   "outputs": [
    {
     "name": "stdout",
     "output_type": "stream",
     "text": [
      "CodroidHub is an edtech company\n",
      "It is located in India\n",
      ".\n"
     ]
    }
   ],
   "source": [
    "# Assign mulitline string \n",
    "company = \"\"\"CodroidHub is an edtech company\n",
    "It is located in India\n",
    ".\"\"\"\n",
    "print(company)"
   ]
  },
  {
   "cell_type": "markdown",
   "metadata": {},
   "source": [
    "## Looping Through a String"
   ]
  },
  {
   "cell_type": "code",
   "execution_count": 1,
   "metadata": {},
   "outputs": [
    {
     "ename": "NameError",
     "evalue": "name 'company' is not defined",
     "output_type": "error",
     "traceback": [
      "\u001b[0;31m---------------------------------------------------------------------------\u001b[0m",
      "\u001b[0;31mNameError\u001b[0m                                 Traceback (most recent call last)",
      "Cell \u001b[0;32mIn[1], line 3\u001b[0m\n\u001b[1;32m      1\u001b[0m \u001b[38;5;66;03m# Since strings are arrays, we can loop through the characters in a string, with a for loop.\u001b[39;00m\n\u001b[1;32m      2\u001b[0m \u001b[38;5;66;03m#for var in \"CodroidHub\":\u001b[39;00m\n\u001b[0;32m----> 3\u001b[0m \u001b[38;5;28;01mfor\u001b[39;00m var \u001b[38;5;129;01min\u001b[39;00m \u001b[43mcompany\u001b[49m:\n\u001b[1;32m      4\u001b[0m     \u001b[38;5;28mprint\u001b[39m(var)\n\u001b[1;32m      6\u001b[0m \u001b[38;5;66;03m# Task \u001b[39;00m\n",
      "\u001b[0;31mNameError\u001b[0m: name 'company' is not defined"
     ]
    }
   ],
   "source": [
    "# Since strings are arrays, we can loop through the characters in a string, with a for loop.\n",
    "#for var in \"CodroidHub\":\n",
    "for var in company:\n",
    "    print(var)\n",
    "    \n",
    "# Task \n",
    "\"\"\"\n",
    "Print the characters in horizontal order\n",
    "\n",
    "\"\"\""
   ]
  },
  {
   "cell_type": "markdown",
   "metadata": {},
   "source": [
    "## String Functions"
   ]
  },
  {
   "cell_type": "code",
   "execution_count": null,
   "metadata": {},
   "outputs": [],
   "source": [
    "# length of a string, use the len() function\n",
    "print(len(company))"
   ]
  },
  {
   "cell_type": "code",
   "execution_count": 5,
   "metadata": {},
   "outputs": [
    {
     "name": "stdout",
     "output_type": "stream",
     "text": [
      "False\n"
     ]
    }
   ],
   "source": [
    "# check if a certain phrase or character is present in a string, we can use the keyword in\n",
    "txt = \"CodroidHub is an Edtech company!\"\n",
    "print(\"edtech\" in txt)"
   ]
  },
  {
   "cell_type": "code",
   "execution_count": 6,
   "metadata": {},
   "outputs": [
    {
     "name": "stdout",
     "output_type": "stream",
     "text": [
      "Yes, 'edtech' is present.\n"
     ]
    }
   ],
   "source": [
    "# Use it in an if statement\n",
    "txt = \"CodroidHub is an edtech company!\"\n",
    "if \"edtech\" in txt:\n",
    "  print(\"Yes, 'edtech' is present.\")"
   ]
  },
  {
   "cell_type": "code",
   "execution_count": 1,
   "metadata": {},
   "outputs": [
    {
     "name": "stdout",
     "output_type": "stream",
     "text": [
      "True\n"
     ]
    }
   ],
   "source": [
    "# Check if \"expensive\" is NOT present in the following text\n",
    "txt = \"CodroidHub is an edtech company!\"\n",
    "print(\"expensive\" not in txt)"
   ]
  },
  {
   "cell_type": "code",
   "execution_count": null,
   "metadata": {},
   "outputs": [],
   "source": [
    "\n",
    "    "
   ]
  }
 ],
 "metadata": {
  "kernelspec": {
   "display_name": "Python 3",
   "language": "python",
   "name": "python3"
  },
  "language_info": {
   "codemirror_mode": {
    "name": "ipython",
    "version": 3
   },
   "file_extension": ".py",
   "mimetype": "text/x-python",
   "name": "python",
   "nbconvert_exporter": "python",
   "pygments_lexer": "ipython3",
   "version": "3.11.5"
  }
 },
 "nbformat": 4,
 "nbformat_minor": 5
}
