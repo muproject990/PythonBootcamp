{
 "cells": [
  {
   "cell_type": "code",
   "execution_count": 2,
   "metadata": {},
   "outputs": [
    {
     "name": "stderr",
     "output_type": "stream",
     "text": [
      "/tmp/ipykernel_4845/1662815981.py:2: DeprecationWarning: \n",
      "Pyarrow will become a required dependency of pandas in the next major release of pandas (pandas 3.0),\n",
      "(to allow more performant data types, such as the Arrow string type, and better interoperability with other libraries)\n",
      "but was not found to be installed on your system.\n",
      "If this would cause problems for you,\n",
      "please provide us feedback at https://github.com/pandas-dev/pandas/issues/54466\n",
      "        \n",
      "  import pandas as pd\n"
     ]
    }
   ],
   "source": [
    "import numpy as np\n",
    "import pandas as pd"
   ]
  },
  {
   "cell_type": "markdown",
   "metadata": {},
   "source": [
    "## Numpy\n",
    "- It is fundamental package for scientific computing in python\n",
    "- multidimensional array object, various derived object\n",
    "- At the core there is ndarray object\n",
    "- Encapsulates n-dimensional array of gomogeneous data types\n",
    "\n",
    "### Props\n",
    "\n",
    "- NumPy (Numerical Python) has fixed size\n",
    "- same data type \n",
    "- <span style=\"color: rgb(179, 66, 66);\">every field of science and engineering\n",
    "</span>\n",
    "- The NumPy API is used extensively in Pandas, SciPy, Matplotlib, scikit-learn, scikit-image and most other data science and scientific Python packages.\n",
    "-  \n",
    "\n",
    "\n"
   ]
  },
  {
   "cell_type": "markdown",
   "metadata": {},
   "source": []
  },
  {
   "cell_type": "markdown",
   "metadata": {},
   "source": [
    "##### NumPy, which stands for Numerical Python, is a fundamental library for scientific computing in Python. It provides a powerful N-dimensional array object, sophisticated broadcasting functions, tools for integrating C/C++ and Fortran code, and useful linear algebra, Fourier transform, and random number capabilities.\n",
    "##### Here are some key features of NumPy: *  - - \n",
    "- Multidimensional arrays: NumPy's core data structure is the ndarray, a powerful N-dimensional array object that can efficiently store and manipulate large amounts of data. This makes it significantly faster and more memory-efficient than using Python lists for numerical computations. * Broadcasting: NumPy's broadcasting mechanism allows for performing element-wise operations on arrays of different shapes, as long as they are compatible. This simplifies complex array manipulations and reduces the need for explicit loops. * Linear algebra: NumPy provides a comprehensive set of functions for linear algebra operations, including matrix multiplication, inversion, solving linear systems of equations, and eigenvalue decomposition. These functions are highly optimized and efficient for large datasets. * - Fourier transforms: NumPy offers efficient implementations of the discrete Fourier transform (DFT) and its inverse, which are essential for signal processing and image analysis applications. \n",
    "* Random number generation: NumPy provides various functions for generating random numbers from different probability distributions, making it useful for simulations and statistical analysis. NumPy is widely used in various scientific and engineering domains, including: \n",
    "* Data science and machine learning: NumPy is the foundation for many popular data science and machine learning libraries, such as pandas, scikit-learn, and TensorFlow. It is used for data manipulation, preprocessing, and numerical computations in these fields.\n",
    " * Physics and chemistry: NumPy is extensively used in simulations, modeling, and data analysis in physics, chemistry, and other scientific disciplines. \n",
    " * Finance and economics: NumPy is employed for quantitative analysis, risk modeling, and financial simulations in the finance and economics sectors.\n",
    " *  Image and signal processing : NumPy's array manipulation and linear algebra capabilities are essential for image processing, signal filtering, and other related tasks. Overall, NumPy is an indispensable tool for anyone working with numerical data in Python. Its efficiency, flexibility, and rich ecosystem of functions make it a cornerstone of scientific computing in Python. Here are some additional resources that you may find helpful: \n",
    " * NumPy website: [https://numpy.org/](https://numpy.org/) * NumPy documentation: [https://numpy.org/doc/](https://numpy.org/doc/) * W3Schools NumPy tutorial: [https://www.w3schools.com/python/numpy/default.asp](https://www.w3schools.com/python/numpy/default.asp)"
   ]
  },
  {
   "cell_type": "markdown",
   "metadata": {},
   "source": []
  },
  {
   "cell_type": "markdown",
   "metadata": {},
   "source": [
    " <b> What is an array? </b>\n",
    " - <i> An array is a grid of values and it contains information about the raw data, how to locate an element, and how to interpret an element. </i>\n",
    "- <span style='color:blue;'> a tuple of nonnegative integers, by booleans, by another array, or by integers. </span>\n",
    "\n",
    "- <span style='color:pink;'> The rank of the array is the number of dimensions. </span>\n",
    "- The shape of the array is a tuple of integers giving the size of the array along each dimension.\n",
    "-  Syntax: <span style='color:red;'> a = np.array([1, 2, 3, 4, 5, 6]) </span>\n",
    "- \n",
    "\n"
   ]
  },
  {
   "cell_type": "code",
   "execution_count": 4,
   "metadata": {},
   "outputs": [
    {
     "data": {
      "text/plain": [
       "array([1, 2, 3, 4, 5, 6])"
      ]
     },
     "execution_count": 4,
     "metadata": {},
     "output_type": "execute_result"
    }
   ],
   "source": [
    "a = np.array([1, 2, 3, 4, 5, 6])\n",
    "a"
   ]
  },
  {
   "cell_type": "markdown",
   "metadata": {},
   "source": [
    "<span style='color:pink;'> 2 Dimensional Array </span>\n",
    " - a = np.array([[1, 2, 3, 4], [5, 6, 7, 8], [9, 10, 11, 12]])\n",
    "\n",
    " \n",
    " \n"
   ]
  },
  {
   "cell_type": "markdown",
   "metadata": {},
   "source": [
    "<span style='color:pink;'> 3 Dimensional Array </span>\n",
    " - <b> a=np.array(\n",
    "-   = [\n",
    " -      [[1,2,3],[1,2,3],\n",
    " -       [4,5,6],[4,5,6]]\n",
    "        \n",
    " -       ]) </b>\n",
    "\n"
   ]
  },
  {
   "cell_type": "code",
   "execution_count": 1,
   "metadata": {},
   "outputs": [
    {
     "ename": "NameError",
     "evalue": "name 'np' is not defined",
     "output_type": "error",
     "traceback": [
      "\u001b[0;31m---------------------------------------------------------------------------\u001b[0m",
      "\u001b[0;31mNameError\u001b[0m                                 Traceback (most recent call last)",
      "Cell \u001b[0;32mIn[1], line 1\u001b[0m\n\u001b[0;32m----> 1\u001b[0m a\u001b[38;5;241m=\u001b[39m\u001b[43mnp\u001b[49m\u001b[38;5;241m.\u001b[39marray(\n\u001b[1;32m      2\u001b[0m    [ [[\u001b[38;5;241m1\u001b[39m,\u001b[38;5;241m2\u001b[39m,\u001b[38;5;241m3\u001b[39m],[\u001b[38;5;241m11\u001b[39m,\u001b[38;5;241m22\u001b[39m,\u001b[38;5;241m33\u001b[39m],\n\u001b[1;32m      3\u001b[0m     [\u001b[38;5;241m4\u001b[39m,\u001b[38;5;241m5\u001b[39m,\u001b[38;5;241m6\u001b[39m],[\u001b[38;5;241m8\u001b[39m,\u001b[38;5;241m9\u001b[39m,\u001b[38;5;241m16\u001b[39m] \n\u001b[1;32m      4\u001b[0m ]])\n\u001b[1;32m      5\u001b[0m \u001b[38;5;66;03m# a.reshape(12) #array([1, 2, 3, 1, 2, 3, 4, 5, 6, 4, 5, 6])\u001b[39;00m\n",
      "\u001b[0;31mNameError\u001b[0m: name 'np' is not defined"
     ]
    }
   ],
   "source": [
    "\n",
    "a=np.array(\n",
    "   [ [[1,2,3],[11,22,33],\n",
    "    [4,5,6],[8,9,16] \n",
    "]])\n",
    "# a.reshape(12) #array([1, 2, 3, 1, 2, 3, 4, 5, 6, 4, 5, 6])"
   ]
  },
  {
   "cell_type": "code",
   "execution_count": 36,
   "metadata": {},
   "outputs": [
    {
     "name": "stdout",
     "output_type": "stream",
     "text": [
      "33\n"
     ]
    }
   ],
   "source": [
    "print(a[0][1][2])"
   ]
  },
  {
   "cell_type": "code",
   "execution_count": 37,
   "metadata": {},
   "outputs": [
    {
     "name": "stdout",
     "output_type": "stream",
     "text": [
      "22\n"
     ]
    }
   ],
   "source": [
    "print(a[0][1][1])"
   ]
  },
  {
   "cell_type": "code",
   "execution_count": 3,
   "metadata": {},
   "outputs": [
    {
     "ename": "NameError",
     "evalue": "name 'a' is not defined",
     "output_type": "error",
     "traceback": [
      "\u001b[0;31m---------------------------------------------------------------------------\u001b[0m",
      "\u001b[0;31mNameError\u001b[0m                                 Traceback (most recent call last)",
      "Cell \u001b[0;32mIn[3], line 1\u001b[0m\n\u001b[0;32m----> 1\u001b[0m \u001b[38;5;28mprint\u001b[39m(\u001b[43ma\u001b[49m[\u001b[38;5;241m0\u001b[39m][\u001b[38;5;241m0\u001b[39m][\u001b[38;5;241m2\u001b[39m])\n",
      "\u001b[0;31mNameError\u001b[0m: name 'a' is not defined"
     ]
    }
   ],
   "source": [
    "print(a[0][0][2])"
   ]
  },
  {
   "cell_type": "code",
   "execution_count": null,
   "metadata": {},
   "outputs": [],
   "source": []
  }
 ],
 "metadata": {
  "kernelspec": {
   "display_name": "base",
   "language": "python",
   "name": "python3"
  },
  "language_info": {
   "codemirror_mode": {
    "name": "ipython",
    "version": 3
   },
   "file_extension": ".py",
   "mimetype": "text/x-python",
   "name": "python",
   "nbconvert_exporter": "python",
   "pygments_lexer": "ipython3",
   "version": "3.11.5"
  }
 },
 "nbformat": 4,
 "nbformat_minor": 2
}
